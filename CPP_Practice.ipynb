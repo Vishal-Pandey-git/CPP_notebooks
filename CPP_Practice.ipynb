{
 "cells": [
  {
   "cell_type": "markdown",
   "id": "2f43a8a1",
   "metadata": {},
   "source": [
    "#### Header"
   ]
  },
  {
   "cell_type": "code",
   "execution_count": 1,
   "id": "2f13385d",
   "metadata": {},
   "outputs": [],
   "source": [
    "#include <iostream>\n",
    "using namespace std;"
   ]
  },
  {
   "cell_type": "markdown",
   "id": "6271617c",
   "metadata": {},
   "source": [
    "#### Hello World"
   ]
  },
  {
   "cell_type": "code",
   "execution_count": 2,
   "id": "98417921",
   "metadata": {},
   "outputs": [
    {
     "name": "stdout",
     "output_type": "stream",
     "text": [
      "Namaskar Vishwa"
     ]
    }
   ],
   "source": [
    "cout << \"Namaskar Vishwa\";"
   ]
  },
  {
   "cell_type": "markdown",
   "id": "04dc51d8",
   "metadata": {},
   "source": [
    "#### Memory size of datatypes in Bytes"
   ]
  },
  {
   "cell_type": "code",
   "execution_count": 3,
   "id": "246250b3",
   "metadata": {},
   "outputs": [
    {
     "name": "stdout",
     "output_type": "stream",
     "text": [
      "int\tchar\tfloat\tdouble\tlong\tunsigned int\tstring\n",
      "4\t1\t4\t8\t8\t4\t\t32"
     ]
    }
   ],
   "source": [
    "int sizeof_int=sizeof(int);\n",
    "int sizeof_char=sizeof(char);\n",
    "int sizeof_float=sizeof(float);\n",
    "int sizeof_double=sizeof(double);\n",
    "int sizeof_long=sizeof(long);\n",
    "int sizeof_unsigned_int=sizeof(unsigned int);\n",
    "int sizeof_string=sizeof(string);\n",
    "int sizeof_bool=sizeof(bool);\n",
    "int sizeof_short=sizeof(short);\n",
    "cout<<\"int\\tchar\\tfloat\\tdouble\\tlong\\tunsigned int\\tstring\\tbool\\tshort\\n\";\n",
    "cout<<sizeof_int<<\"\\t\"<<sizeof_char<<\"\\t\"<<sizeof_float<<\"\\t\"<<sizeof_double<<\"\\t\"<<sizeof_long<<\"\\t\"<<sizeof_unsigned_int<<\"\\t\\t\"<<sizeof_string<<\"\\t\"<<sizeof_bool<<\"\\t\"<<sizeof_short;"
   ]
  },
  {
   "cell_type": "code",
   "execution_count": null,
   "id": "160398d4",
   "metadata": {},
   "outputs": [],
   "source": []
  },
  {
   "cell_type": "code",
   "execution_count": null,
   "id": "9236e96d",
   "metadata": {},
   "outputs": [],
   "source": []
  }
 ],
 "metadata": {
  "kernelspec": {
   "display_name": "C++17",
   "language": "C++17",
   "name": "xcpp17"
  },
  "language_info": {
   "codemirror_mode": "text/x-c++src",
   "file_extension": ".cpp",
   "mimetype": "text/x-c++src",
   "name": "c++",
   "version": "17"
  }
 },
 "nbformat": 4,
 "nbformat_minor": 5
}
