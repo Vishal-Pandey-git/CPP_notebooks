{
 "cells": [
  {
   "cell_type": "markdown",
   "id": "2f43a8a1",
   "metadata": {},
   "source": [
    "#### Header"
   ]
  },
  {
   "cell_type": "code",
   "execution_count": 1,
   "id": "2f13385d",
   "metadata": {},
   "outputs": [],
   "source": [
    "#include <iostream>\n",
    "using namespace std;"
   ]
  },
  {
   "cell_type": "markdown",
   "id": "6271617c",
   "metadata": {},
   "source": [
    "#### Hello World"
   ]
  },
  {
   "cell_type": "code",
   "execution_count": 2,
   "id": "98417921",
   "metadata": {},
   "outputs": [
    {
     "name": "stdout",
     "output_type": "stream",
     "text": [
      "Namaskar Vishwa"
     ]
    }
   ],
   "source": [
    "cout << \"Namaskar Vishwa\";"
   ]
  },
  {
   "cell_type": "markdown",
   "id": "35d9c765",
   "metadata": {},
   "source": [
    "#### Memory size of datatypes in Bytes"
   ]
  },
  {
   "cell_type": "code",
   "execution_count": 3,
   "id": "b6e884dd",
   "metadata": {},
   "outputs": [
    {
     "name": "stdout",
     "output_type": "stream",
     "text": [
      "int\tchar\tfloat\tdouble\tlong\tunsigned int\tstring\tbool\tshort\n",
      "4\t1\t4\t8\t8\t4\t\t32\t1\t2"
     ]
    }
   ],
   "source": [
    "int sizeof_int=sizeof(int);\n",
    "int sizeof_char=sizeof(char);\n",
    "int sizeof_float=sizeof(float);\n",
    "int sizeof_double=sizeof(double);\n",
    "int sizeof_long=sizeof(long);\n",
    "int sizeof_unsigned_int=sizeof(unsigned int);\n",
    "int sizeof_string=sizeof(string);\n",
    "int sizeof_bool=sizeof(bool);\n",
    "int sizeof_short=sizeof(short);\n",
    "cout<<\"int\\tchar\\tfloat\\tdouble\\tlong\\tunsigned int\\tstring\\tbool\\tshort\\n\";\n",
    "cout<<sizeof_int<<\"\\t\"<<sizeof_char<<\"\\t\"<<sizeof_float<<\"\\t\"<<sizeof_double<<\"\\t\"<<sizeof_long<<\"\\t\"<<sizeof_unsigned_int<<\"\\t\\t\"<<sizeof_string<<\"\\t\"<<sizeof_bool<<\"\\t\"<<sizeof_short;"
   ]
  },
  {
   "cell_type": "markdown",
   "id": "a5d3f245",
   "metadata": {},
   "source": [
    "#### Conditionals"
   ]
  },
  {
   "cell_type": "code",
   "execution_count": 4,
   "id": "ae12ab48",
   "metadata": {},
   "outputs": [
    {
     "name": "stdout",
     "output_type": "stream",
     "text": [
      "5>3"
     ]
    }
   ],
   "source": [
    "if(3>5){\n",
    "    cout<<\"3>5\";\n",
    "}\n",
    "else if(3==5){\n",
    "    cout<<\"3=5\";\n",
    "}\n",
    "else{\n",
    "    cout<<\"5>3\";\n",
    "}"
   ]
  },
  {
   "cell_type": "markdown",
   "id": "9477c408",
   "metadata": {},
   "source": [
    "#### While loop"
   ]
  },
  {
   "cell_type": "code",
   "execution_count": 5,
   "id": "7f54a4c9",
   "metadata": {},
   "outputs": [
    {
     "name": "stdout",
     "output_type": "stream",
     "text": [
      "0 1 2 3 4 5 "
     ]
    }
   ],
   "source": [
    "int i=0;\n",
    "while(i<=5)\n",
    "{\n",
    "    cout<<i<<\" \";\n",
    "    i++;\n",
    "}"
   ]
  },
  {
   "cell_type": "markdown",
   "id": "33a83cc5",
   "metadata": {},
   "source": [
    "#### Pattern 1\n",
    "## ***\n",
    "## ***\n",
    "## ***"
   ]
  },
  {
   "cell_type": "code",
   "execution_count": 6,
   "id": "cd19a47e",
   "metadata": {},
   "outputs": [
    {
     "name": "stdout",
     "output_type": "stream",
     "text": [
      "***\n",
      "***\n",
      "***\n"
     ]
    }
   ],
   "source": [
    "int n=3,i=1;\n",
    "while(i<=n){\n",
    "    int j=1;\n",
    "    while(j<=n){\n",
    "        cout<<'*';\n",
    "        j=j+1;\n",
    "    }\n",
    "    cout<<endl;\n",
    "    i=i+1;\n",
    "}"
   ]
  },
  {
   "cell_type": "markdown",
   "id": "e30bb31f",
   "metadata": {},
   "source": [
    "#### Pattern 2\n",
    "#### 111\n",
    "#### 222\n",
    "#### 333"
   ]
  },
  {
   "cell_type": "code",
   "execution_count": 7,
   "id": "080914df",
   "metadata": {},
   "outputs": [
    {
     "name": "stdout",
     "output_type": "stream",
     "text": [
      "111\n",
      "222\n",
      "333\n"
     ]
    }
   ],
   "source": [
    "int n=3,i=1;\n",
    "while(i<=n){\n",
    "    int j=1;\n",
    "    while(j<=n){\n",
    "        cout<<i;\n",
    "        j=j+1;\n",
    "    }\n",
    "    cout<<endl;\n",
    "    i=i+1;\n",
    "}"
   ]
  },
  {
   "cell_type": "markdown",
   "id": "43e20608",
   "metadata": {},
   "source": [
    "#### Pattern 3\n",
    "#### 123\n",
    "#### 123\n",
    "#### 123"
   ]
  },
  {
   "cell_type": "code",
   "execution_count": 8,
   "id": "8fb4ed39",
   "metadata": {},
   "outputs": [
    {
     "name": "stdout",
     "output_type": "stream",
     "text": [
      "123\n",
      "123\n",
      "123\n"
     ]
    }
   ],
   "source": [
    "int n=3,i=1;\n",
    "while(i<=n){\n",
    "    int j=1;\n",
    "    while(j<=n){\n",
    "        cout<<j;\n",
    "        j=j+1;\n",
    "    }\n",
    "    cout<<endl;\n",
    "    i=i+1;\n",
    "}"
   ]
  },
  {
   "cell_type": "markdown",
   "id": "da9de108",
   "metadata": {},
   "source": [
    "#### Pattern 4\n",
    "#### 321\n",
    "#### 321\n",
    "#### 321"
   ]
  },
  {
   "cell_type": "code",
   "execution_count": 9,
   "id": "6545122f",
   "metadata": {
    "scrolled": true
   },
   "outputs": [
    {
     "name": "stdout",
     "output_type": "stream",
     "text": [
      "321\n",
      "321\n",
      "321\n"
     ]
    }
   ],
   "source": [
    "int n=3,i=1;\n",
    "while(i<=n){\n",
    "    int j=1;\n",
    "    while(j<=n){\n",
    "        cout<<n-j+1;\n",
    "        j=j+1;\n",
    "    }\n",
    "    cout<<endl;\n",
    "    i=i+1;\n",
    "}"
   ]
  },
  {
   "cell_type": "markdown",
   "id": "cbd2faa9",
   "metadata": {},
   "source": [
    "#### Pattern 5\n",
    "#### 333\n",
    "#### 222\n",
    "#### 111"
   ]
  },
  {
   "cell_type": "code",
   "execution_count": 10,
   "id": "f30508ef",
   "metadata": {},
   "outputs": [
    {
     "name": "stdout",
     "output_type": "stream",
     "text": [
      "333\n",
      "222\n",
      "111\n"
     ]
    }
   ],
   "source": [
    "int n=3,i=1;\n",
    "while(i<=n){\n",
    "    int j=1;\n",
    "    while(j<=n){\n",
    "        cout<<n-i+1;\n",
    "        j=j+1;\n",
    "    }\n",
    "    cout<<endl;\n",
    "    i=i+1;\n",
    "}"
   ]
  },
  {
   "cell_type": "markdown",
   "id": "281541b5",
   "metadata": {},
   "source": [
    "#### Pattern 6\n",
    "#### 123\n",
    "#### 456\n",
    "#### 789"
   ]
  },
  {
   "cell_type": "code",
   "execution_count": 11,
   "id": "a05c054c",
   "metadata": {},
   "outputs": [
    {
     "name": "stdout",
     "output_type": "stream",
     "text": [
      "123\n",
      "456\n",
      "789\n"
     ]
    }
   ],
   "source": [
    "int n=3,i=1,k=1;\n",
    "while(i<=n){\n",
    "    int j=1;\n",
    "    while(j<=n){\n",
    "        cout<<k;\n",
    "        k=k+1;\n",
    "        j=j+1;\n",
    "    }\n",
    "    cout<<endl;\n",
    "    i=i+1;\n",
    "}"
   ]
  },
  {
   "cell_type": "markdown",
   "id": "86b82c6d",
   "metadata": {},
   "source": [
    "#### Pattern 7\n",
    "#### 987\n",
    "#### 654\n",
    "#### 321"
   ]
  },
  {
   "cell_type": "code",
   "execution_count": 12,
   "id": "20c72a77",
   "metadata": {},
   "outputs": [
    {
     "name": "stdout",
     "output_type": "stream",
     "text": [
      "987\n",
      "654\n",
      "321\n"
     ]
    }
   ],
   "source": [
    "int n=3,i=1,k=9;\n",
    "while(i<=n){\n",
    "    int j=1;\n",
    "    while(j<=n){\n",
    "        cout<<k;\n",
    "        k=k-1;\n",
    "        j=j+1;\n",
    "    }\n",
    "    cout<<endl;\n",
    "    i=i+1;\n",
    "}"
   ]
  },
  {
   "cell_type": "markdown",
   "id": "dda79fb0",
   "metadata": {},
   "source": [
    "#### Pattern 8\n",
    "## *\n",
    "## **\n",
    "## ***"
   ]
  },
  {
   "cell_type": "code",
   "execution_count": 13,
   "id": "b5c9f170",
   "metadata": {},
   "outputs": [
    {
     "name": "stdout",
     "output_type": "stream",
     "text": [
      "*\n",
      "**\n",
      "***\n"
     ]
    }
   ],
   "source": [
    "int n=3,i=1;\n",
    "while(i<=n){\n",
    "    int j=1;\n",
    "    while(j<=i){\n",
    "        cout<<'*';\n",
    "        j=j+1;\n",
    "    }\n",
    "    cout<<endl;\n",
    "    i=i+1;\n",
    "}"
   ]
  },
  {
   "cell_type": "markdown",
   "id": "c78c1c35",
   "metadata": {},
   "source": [
    "#### Pattern 9\n",
    "## ***\n",
    "## **\n",
    "## *"
   ]
  },
  {
   "cell_type": "code",
   "execution_count": 14,
   "id": "2e8ba3db",
   "metadata": {},
   "outputs": [
    {
     "name": "stdout",
     "output_type": "stream",
     "text": [
      "***\n",
      "**\n",
      "*\n"
     ]
    }
   ],
   "source": [
    "int n=3,i=1;\n",
    "while(i<=n){\n",
    "    int j=i;\n",
    "    while(j<=n){\n",
    "        cout<<'*';\n",
    "        j=j+1;\n",
    "    }\n",
    "    cout<<endl;\n",
    "    i=i+1;\n",
    "}"
   ]
  }
 ],
 "metadata": {
  "kernelspec": {
   "display_name": "C++17",
   "language": "C++17",
   "name": "xcpp17"
  },
  "language_info": {
   "codemirror_mode": "text/x-c++src",
   "file_extension": ".cpp",
   "mimetype": "text/x-c++src",
   "name": "c++",
   "version": "17"
  }
 },
 "nbformat": 4,
 "nbformat_minor": 5
}
