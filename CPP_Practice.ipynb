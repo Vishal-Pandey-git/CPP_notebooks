{
 "cells": [
  {
   "cell_type": "markdown",
   "id": "2f43a8a1",
   "metadata": {},
   "source": [
    "#### Header"
   ]
  },
  {
   "cell_type": "code",
   "execution_count": 1,
   "id": "2f13385d",
   "metadata": {},
   "outputs": [],
   "source": [
    "#include <iostream>\n",
    "using namespace std;"
   ]
  },
  {
   "cell_type": "markdown",
   "id": "6271617c",
   "metadata": {},
   "source": [
    "#### Hello World"
   ]
  },
  {
   "cell_type": "code",
   "execution_count": 2,
   "id": "98417921",
   "metadata": {},
   "outputs": [
    {
     "name": "stdout",
     "output_type": "stream",
     "text": [
      "Namaskar Vishwa"
     ]
    }
   ],
   "source": [
    "cout << \"Namaskar Vishwa\";"
   ]
  },
  {
   "cell_type": "markdown",
   "id": "35d9c765",
   "metadata": {},
   "source": [
    "#### Memory size of datatypes in Bytes"
   ]
  },
  {
   "cell_type": "code",
   "execution_count": 3,
   "id": "b6e884dd",
   "metadata": {},
   "outputs": [
    {
     "name": "stdout",
     "output_type": "stream",
     "text": [
      "int\tchar\tfloat\tdouble\tlong\tunsigned int\tstring\tbool\tshort\n",
      "4\t1\t4\t8\t8\t4\t\t32\t1\t2"
     ]
    }
   ],
   "source": [
    "int sizeof_int=sizeof(int);\n",
    "int sizeof_char=sizeof(char);\n",
    "int sizeof_float=sizeof(float);\n",
    "int sizeof_double=sizeof(double);\n",
    "int sizeof_long=sizeof(long);\n",
    "int sizeof_unsigned_int=sizeof(unsigned int);\n",
    "int sizeof_string=sizeof(string);\n",
    "int sizeof_bool=sizeof(bool);\n",
    "int sizeof_short=sizeof(short);\n",
    "cout<<\"int\\tchar\\tfloat\\tdouble\\tlong\\tunsigned int\\tstring\\tbool\\tshort\\n\";\n",
    "cout<<sizeof_int<<\"\\t\"<<sizeof_char<<\"\\t\"<<sizeof_float<<\"\\t\"<<sizeof_double<<\"\\t\"<<sizeof_long<<\"\\t\"<<sizeof_unsigned_int<<\"\\t\\t\"<<sizeof_string<<\"\\t\"<<sizeof_bool<<\"\\t\"<<sizeof_short;"
   ]
  },
  {
   "cell_type": "markdown",
   "id": "a5d3f245",
   "metadata": {},
   "source": [
    "#### Conditionals"
   ]
  },
  {
   "cell_type": "code",
   "execution_count": 4,
   "id": "ae12ab48",
   "metadata": {},
   "outputs": [
    {
     "name": "stdout",
     "output_type": "stream",
     "text": [
      "5>3"
     ]
    }
   ],
   "source": [
    "if(3>5){\n",
    "    cout<<\"3>5\";\n",
    "}\n",
    "else if(3==5){\n",
    "    cout<<\"3=5\";\n",
    "}\n",
    "else{\n",
    "    cout<<\"5>3\";\n",
    "}"
   ]
  },
  {
   "cell_type": "markdown",
   "id": "6373ff7f",
   "metadata": {},
   "source": [
    "#### While loop"
   ]
  },
  {
   "cell_type": "code",
   "execution_count": 5,
   "id": "6a6d6886",
   "metadata": {},
   "outputs": [
    {
     "name": "stdout",
     "output_type": "stream",
     "text": [
      "0 1 2 3 4 5 "
     ]
    }
   ],
   "source": [
    "int i=0;\n",
    "while(i<=5)\n",
    "{\n",
    "    cout<<i<<\" \";\n",
    "    i++;\n",
    "}"
   ]
  },
  {
   "cell_type": "markdown",
   "id": "7ebc30e4",
   "metadata": {},
   "source": [
    "#### Pattern 1\n",
    "<pre>\n",
    "***\n",
    "***\n",
    "***\n",
    "</pre>"
   ]
  },
  {
   "cell_type": "code",
   "execution_count": 6,
   "id": "b95d2274",
   "metadata": {},
   "outputs": [
    {
     "name": "stdout",
     "output_type": "stream",
     "text": [
      "***\n",
      "***\n",
      "***\n"
     ]
    }
   ],
   "source": [
    "int n=3,row=1;\n",
    "while(row<=n){\n",
    "    int col=1;\n",
    "    while(col<=n){\n",
    "        cout<<'*';\n",
    "        col=col+1;\n",
    "    }\n",
    "    cout<<endl;\n",
    "    row=row+1;\n",
    "}"
   ]
  },
  {
   "cell_type": "markdown",
   "id": "61c10114",
   "metadata": {},
   "source": [
    "#### Pattern 2\n",
    "<pre>\n",
    "111\n",
    "222\n",
    "333\n",
    "</pre>"
   ]
  },
  {
   "cell_type": "code",
   "execution_count": 7,
   "id": "f4257159",
   "metadata": {},
   "outputs": [
    {
     "name": "stdout",
     "output_type": "stream",
     "text": [
      "111\n",
      "222\n",
      "333\n"
     ]
    }
   ],
   "source": [
    "int n=3,row=1;\n",
    "while(row<=n){\n",
    "    int col=1;\n",
    "    while(col<=n){\n",
    "        cout<<row;\n",
    "        col=col+1;\n",
    "    }\n",
    "    cout<<endl;\n",
    "    row=row+1;\n",
    "}"
   ]
  },
  {
   "cell_type": "markdown",
   "id": "72080c0c",
   "metadata": {},
   "source": [
    "#### Pattern 3\n",
    "<pre>\n",
    "123\n",
    "123\n",
    "123\n",
    "</pre>"
   ]
  },
  {
   "cell_type": "code",
   "execution_count": 8,
   "id": "9f9eb17d",
   "metadata": {},
   "outputs": [
    {
     "name": "stdout",
     "output_type": "stream",
     "text": [
      "123\n",
      "123\n",
      "123\n"
     ]
    }
   ],
   "source": [
    "int n=3,row=1;\n",
    "while(row<=n){\n",
    "    int col=1;\n",
    "    while(col<=n){\n",
    "        cout<<col;\n",
    "        col=col+1;\n",
    "    }\n",
    "    cout<<endl;\n",
    "    row=row+1;\n",
    "}"
   ]
  },
  {
   "cell_type": "markdown",
   "id": "42ae4ffa",
   "metadata": {},
   "source": [
    "#### Pattern 4\n",
    "<pre>\n",
    "321\n",
    "321\n",
    "321\n",
    "</pre>"
   ]
  },
  {
   "cell_type": "code",
   "execution_count": 9,
   "id": "2556aeb9",
   "metadata": {
    "scrolled": true
   },
   "outputs": [
    {
     "name": "stdout",
     "output_type": "stream",
     "text": [
      "321\n",
      "321\n",
      "321\n"
     ]
    }
   ],
   "source": [
    "int n=3,row=1;\n",
    "while(row<=n){\n",
    "    int col=1;\n",
    "    while(col<=n){\n",
    "        cout<<n-col+1;\n",
    "        col=col+1;\n",
    "    }\n",
    "    cout<<endl;\n",
    "    row=row+1;\n",
    "}"
   ]
  },
  {
   "cell_type": "markdown",
   "id": "8de2938f",
   "metadata": {},
   "source": [
    "#### Pattern 5\n",
    "<pre>\n",
    "333\n",
    "222\n",
    "111\n",
    "</pre>"
   ]
  },
  {
   "cell_type": "code",
   "execution_count": 10,
   "id": "60f491be",
   "metadata": {},
   "outputs": [
    {
     "name": "stdout",
     "output_type": "stream",
     "text": [
      "333\n",
      "222\n",
      "111\n"
     ]
    }
   ],
   "source": [
    "int n=3,row=1;\n",
    "while(row<=n){\n",
    "    int col=1;\n",
    "    while(col<=n){\n",
    "        cout<<n-row+1;\n",
    "        col=col+1;\n",
    "    }\n",
    "    cout<<endl;\n",
    "    row=row+1;\n",
    "}"
   ]
  },
  {
   "cell_type": "markdown",
   "id": "322e6786",
   "metadata": {},
   "source": [
    "#### Pattern 6\n",
    "<pre>\n",
    "123\n",
    "456\n",
    "789\n",
    "</pre>"
   ]
  },
  {
   "cell_type": "code",
   "execution_count": 11,
   "id": "c18330ea",
   "metadata": {},
   "outputs": [
    {
     "name": "stdout",
     "output_type": "stream",
     "text": [
      "123\n",
      "456\n",
      "789\n"
     ]
    }
   ],
   "source": [
    "int n=3,row=1,count=1;\n",
    "while(row<=n){\n",
    "    int col=1;\n",
    "    while(col<=n){\n",
    "        cout<<count;\n",
    "        count=count+1;\n",
    "        col=col+1;\n",
    "    }\n",
    "    cout<<endl;\n",
    "    row=row+1;\n",
    "}"
   ]
  },
  {
   "cell_type": "markdown",
   "id": "a9bf3dbe",
   "metadata": {},
   "source": [
    "#### Pattern 7\n",
    "<pre>\n",
    "987\n",
    "654\n",
    "321\n",
    "</pre>"
   ]
  },
  {
   "cell_type": "code",
   "execution_count": 12,
   "id": "2be6979e",
   "metadata": {},
   "outputs": [
    {
     "name": "stdout",
     "output_type": "stream",
     "text": [
      "987\n",
      "654\n",
      "321\n"
     ]
    }
   ],
   "source": [
    "int n=3,row=1,count=n*n;\n",
    "while(row<=n){\n",
    "    int col=1;\n",
    "    while(col<=n){\n",
    "        cout<<count;\n",
    "        count=count-1;\n",
    "        col=col+1;\n",
    "    }\n",
    "    cout<<endl;\n",
    "    row=row+1;\n",
    "}"
   ]
  },
  {
   "cell_type": "markdown",
   "id": "50aea4c0",
   "metadata": {},
   "source": [
    "#### Pattern 8\n",
    "<pre>\n",
    "123\n",
    "234\n",
    "345\n",
    "</pre>"
   ]
  },
  {
   "cell_type": "code",
   "execution_count": 13,
   "id": "a1041902",
   "metadata": {},
   "outputs": [
    {
     "name": "stdout",
     "output_type": "stream",
     "text": [
      "123\n",
      "234\n",
      "345\n"
     ]
    }
   ],
   "source": [
    "int row=1, n=3;\n",
    "while(row<=n){\n",
    "    int col=1;\n",
    "    while(col<=n){\n",
    "        cout<<row+col-1;\n",
    "        col++;\n",
    "    }\n",
    "    cout<<endl;\n",
    "    row++;\n",
    "}"
   ]
  },
  {
   "cell_type": "markdown",
   "id": "16b954c0",
   "metadata": {},
   "source": [
    "#### Pattern 9\n",
    "<pre>\n",
    "*\n",
    "**\n",
    "***\n",
    "</pre>"
   ]
  },
  {
   "cell_type": "code",
   "execution_count": 14,
   "id": "1bb00332",
   "metadata": {},
   "outputs": [
    {
     "name": "stdout",
     "output_type": "stream",
     "text": [
      "*\n",
      "**\n",
      "***\n"
     ]
    }
   ],
   "source": [
    "int n=3,row=1;\n",
    "while(row<=n){\n",
    "    int col=1;\n",
    "    while(col<=row){\n",
    "        cout<<'*';\n",
    "        col=col+1;\n",
    "    }\n",
    "    cout<<endl;\n",
    "    row=row+1;\n",
    "}"
   ]
  },
  {
   "cell_type": "markdown",
   "id": "7f515f61",
   "metadata": {},
   "source": [
    "#### Pattern 10\n",
    "<pre>\n",
    "***\n",
    "**\n",
    "*\n",
    "</pre>"
   ]
  },
  {
   "cell_type": "code",
   "execution_count": 15,
   "id": "c6761d0f",
   "metadata": {},
   "outputs": [
    {
     "name": "stdout",
     "output_type": "stream",
     "text": [
      "***\n",
      "**\n",
      "*\n"
     ]
    }
   ],
   "source": [
    "int n=3,row=1;\n",
    "while(row<=n){\n",
    "    int col=row;\n",
    "    while(col<=n){\n",
    "        cout<<'*';\n",
    "        col=col+1;\n",
    "    }\n",
    "    cout<<endl;\n",
    "    row=row+1;\n",
    "}"
   ]
  },
  {
   "cell_type": "markdown",
   "id": "450c3b5d",
   "metadata": {},
   "source": [
    "#### Pattern 11\n",
    "<pre>\n",
    "1\n",
    "23\n",
    "456\n",
    "</pre>"
   ]
  },
  {
   "cell_type": "code",
   "execution_count": 16,
   "id": "88f10117",
   "metadata": {},
   "outputs": [
    {
     "name": "stdout",
     "output_type": "stream",
     "text": [
      "1\n",
      "23\n",
      "456\n"
     ]
    }
   ],
   "source": [
    "int row=1,n=3,count=1;\n",
    "while(row<=n){\n",
    "    int col=1;\n",
    "    while(col<=row){\n",
    "        cout<<count;\n",
    "        count=count+1;\n",
    "        col=col+1;\n",
    "    }\n",
    "    cout<<endl;\n",
    "    row=row+1;\n",
    "}"
   ]
  },
  {
   "cell_type": "markdown",
   "id": "98fe0f8c",
   "metadata": {},
   "source": [
    "#### Pattern 12\n",
    "<pre>\n",
    "123\n",
    "45\n",
    "6\n",
    "</pre>"
   ]
  },
  {
   "cell_type": "code",
   "execution_count": 17,
   "id": "bd7dd240",
   "metadata": {},
   "outputs": [
    {
     "name": "stdout",
     "output_type": "stream",
     "text": [
      "123\n",
      "45\n",
      "6\n"
     ]
    }
   ],
   "source": [
    "int n=3,row=1,count=1;\n",
    "while(row<=n){\n",
    "    int col=row;\n",
    "    while(col<=n){\n",
    "        cout<<count;\n",
    "        count=count+1;\n",
    "        col=col+1;\n",
    "    }\n",
    "    cout<<endl;\n",
    "    row=row+1;\n",
    "}"
   ]
  },
  {
   "cell_type": "markdown",
   "id": "574cf1f8",
   "metadata": {},
   "source": [
    "#### Pattern 13\n",
    "<pre>\n",
    "654\n",
    "32\n",
    "1\n",
    "</pre>"
   ]
  },
  {
   "cell_type": "code",
   "execution_count": 18,
   "id": "9ecb1bd2",
   "metadata": {},
   "outputs": [
    {
     "name": "stdout",
     "output_type": "stream",
     "text": [
      "654\n",
      "32\n",
      "1\n"
     ]
    }
   ],
   "source": [
    "int n=3,row=1,count=n*(n+1)/2;\n",
    "while(row<=n){\n",
    "    int col=row;\n",
    "    while(col<=n){\n",
    "        cout<<count;\n",
    "        count=count-1;\n",
    "        col=col+1;\n",
    "    }\n",
    "    cout<<endl;\n",
    "    row=row+1;\n",
    "}"
   ]
  },
  {
   "cell_type": "markdown",
   "id": "9b8d711c",
   "metadata": {},
   "source": [
    "#### Pattern 14\n",
    "<pre>\n",
    "1\n",
    "23\n",
    "345\n",
    "4567\n",
    "</pre>"
   ]
  },
  {
   "cell_type": "code",
   "execution_count": 19,
   "id": "da688aa2",
   "metadata": {},
   "outputs": [
    {
     "name": "stdout",
     "output_type": "stream",
     "text": [
      "1\n",
      "23\n",
      "345\n",
      "4567\n"
     ]
    }
   ],
   "source": [
    "// Way 1\n",
    "int n=4, row=1;\n",
    "while(row<=n){\n",
    "    int col=1,count=row;\n",
    "    while(col<=row){\n",
    "        cout<<count;\n",
    "        count=count+1;\n",
    "        col=col+1;\n",
    "    }\n",
    "    cout<<endl;\n",
    "    row=row+1;\n",
    "}"
   ]
  },
  {
   "cell_type": "code",
   "execution_count": 20,
   "id": "3861e4ab",
   "metadata": {},
   "outputs": [
    {
     "name": "stdout",
     "output_type": "stream",
     "text": [
      "1\n",
      "23\n",
      "345\n",
      "4567\n"
     ]
    }
   ],
   "source": [
    "// Way 2\n",
    "int n=4, row=1;\n",
    "while(row<=n){\n",
    "    int col=1;\n",
    "    while(col<=row){\n",
    "        cout<<row+col-1;\n",
    "        col=col+1;\n",
    "    }\n",
    "    cout<<endl;\n",
    "    row=row+1;\n",
    "}"
   ]
  },
  {
   "cell_type": "markdown",
   "id": "cdf05ee7",
   "metadata": {},
   "source": [
    "#### Pattern 15\n",
    "<pre>\n",
    "1\n",
    "21\n",
    "321\n",
    "4321\n",
    "</pre>"
   ]
  },
  {
   "cell_type": "code",
   "execution_count": 21,
   "id": "bc8f814f",
   "metadata": {},
   "outputs": [
    {
     "name": "stdout",
     "output_type": "stream",
     "text": [
      "1\n",
      "21\n",
      "321\n",
      "4321\n"
     ]
    }
   ],
   "source": [
    "int n=4, row=1;\n",
    "while(row<=n){\n",
    "    int col=1;\n",
    "    while(col<=row){\n",
    "        cout<<row-col+1;\n",
    "        col=col+1;\n",
    "    }\n",
    "    cout<<endl;\n",
    "    row=row+1;\n",
    "}"
   ]
  },
  {
   "cell_type": "markdown",
   "id": "5613a8ea",
   "metadata": {},
   "source": [
    "#### Pattern 16\n",
    "<pre>\n",
    "AAA\n",
    "BBB\n",
    "CCC\n",
    "</pre>"
   ]
  },
  {
   "cell_type": "code",
   "execution_count": 22,
   "id": "53989936",
   "metadata": {},
   "outputs": [
    {
     "name": "stdout",
     "output_type": "stream",
     "text": [
      "AAA\n",
      "BBB\n",
      "CCC\n"
     ]
    }
   ],
   "source": [
    "int n=3, row=1;\n",
    "\n",
    "while(row<=n){\n",
    "    int col=1;\n",
    "    while(col<=n){\n",
    "        char val='A'+row-1;\n",
    "        cout<<val;\n",
    "        val++;\n",
    "        col++;\n",
    "    }\n",
    "    cout<<endl;\n",
    "    row++;\n",
    "}"
   ]
  },
  {
   "cell_type": "markdown",
   "id": "dfb3d500",
   "metadata": {},
   "source": [
    "#### Pattern 17\n",
    "<pre>\n",
    "ABC\n",
    "ABC\n",
    "ABC\n",
    "</pre>"
   ]
  },
  {
   "cell_type": "code",
   "execution_count": 23,
   "id": "fdc321f3",
   "metadata": {},
   "outputs": [
    {
     "name": "stdout",
     "output_type": "stream",
     "text": [
      "ABC\n",
      "ABC\n",
      "ABC\n"
     ]
    }
   ],
   "source": [
    "// Way 1\n",
    "int n=3, row=1;\n",
    "while(row<=n){\n",
    "    int col=1;\n",
    "    char val='A';\n",
    "    while(col<=n){\n",
    "        cout<<val;\n",
    "        val++;\n",
    "        col++;\n",
    "    }\n",
    "    cout<<endl;\n",
    "    row++;\n",
    "}"
   ]
  },
  {
   "cell_type": "code",
   "execution_count": 24,
   "id": "d2f4da5c",
   "metadata": {},
   "outputs": [
    {
     "name": "stdout",
     "output_type": "stream",
     "text": [
      "ABC\n",
      "ABC\n",
      "ABC\n"
     ]
    }
   ],
   "source": [
    "// Way 2\n",
    "int row=1, n=3;\n",
    "while(row<=n){\n",
    "    int col=1;\n",
    "    while(col<=n){\n",
    "        char val='A'+col-1;\n",
    "        cout<<val;\n",
    "        col++;\n",
    "    }\n",
    "    cout<<endl;\n",
    "    row++;\n",
    "}"
   ]
  },
  {
   "cell_type": "markdown",
   "id": "da17c821",
   "metadata": {},
   "source": [
    "#### Pattern 18\n",
    "<pre>\n",
    "ABC\n",
    "DEF\n",
    "GHI\n",
    "</pre>"
   ]
  },
  {
   "cell_type": "code",
   "execution_count": 25,
   "id": "a7a1c41b",
   "metadata": {},
   "outputs": [
    {
     "name": "stdout",
     "output_type": "stream",
     "text": [
      "ABC\n",
      "DEF\n",
      "GHI\n"
     ]
    }
   ],
   "source": [
    "int n=3, row=1;\n",
    "char val='A';\n",
    "while(row<=n){\n",
    "    int col=1;\n",
    "    while(col<=n){\n",
    "        cout<<val;\n",
    "        val++;\n",
    "        col++;\n",
    "    }\n",
    "    cout<<endl;\n",
    "    row++;\n",
    "}"
   ]
  },
  {
   "cell_type": "markdown",
   "id": "c43e38b2",
   "metadata": {},
   "source": [
    "#### Pattern 19\n",
    "<pre>\n",
    "ABC\n",
    "BCD\n",
    "CDE\n",
    "</pre>"
   ]
  },
  {
   "cell_type": "code",
   "execution_count": 26,
   "id": "454debb3",
   "metadata": {},
   "outputs": [
    {
     "name": "stdout",
     "output_type": "stream",
     "text": [
      "ABC\n",
      "BCD\n",
      "CDE\n"
     ]
    }
   ],
   "source": [
    "int row=1, n=3;\n",
    "while(row<=n){\n",
    "    int col=1;\n",
    "    char val='A'+row-1;\n",
    "    while(col<=n){\n",
    "        cout<<val;\n",
    "        val++;\n",
    "        col++;\n",
    "    }\n",
    "    cout<<endl;\n",
    "    row++;\n",
    "}"
   ]
  },
  {
   "cell_type": "markdown",
   "id": "25232aee",
   "metadata": {},
   "source": [
    "#### Pattern 20\n",
    "<pre>\n",
    "A\n",
    "BB\n",
    "CCC\n",
    "</pre>"
   ]
  },
  {
   "cell_type": "code",
   "execution_count": 27,
   "id": "2629e51e",
   "metadata": {},
   "outputs": [
    {
     "name": "stdout",
     "output_type": "stream",
     "text": [
      "A\n",
      "BB\n",
      "CCC\n"
     ]
    }
   ],
   "source": [
    "int row=1, n=3;\n",
    "while(row<=n){\n",
    "    int col=1;\n",
    "    while(col<=row){\n",
    "        char val='A'+row-1;\n",
    "        cout<<val;\n",
    "        val++;\n",
    "        col++;\n",
    "    }\n",
    "    cout<<endl;\n",
    "    row++;\n",
    "}"
   ]
  },
  {
   "cell_type": "markdown",
   "id": "d75319a3",
   "metadata": {},
   "source": [
    "#### Pattern 21\n",
    "<pre>\n",
    "A\n",
    "BC\n",
    "CDE\n",
    "</pre>"
   ]
  },
  {
   "cell_type": "code",
   "execution_count": 28,
   "id": "4bbc125f",
   "metadata": {
    "scrolled": true
   },
   "outputs": [
    {
     "name": "stdout",
     "output_type": "stream",
     "text": [
      "A\n",
      "BC\n",
      "CDE\n"
     ]
    }
   ],
   "source": [
    "int row=1, n=3;\n",
    "while(row<=n){\n",
    "    int col=1;\n",
    "    char val='A'+row-1;\n",
    "    while(col<=row){\n",
    "        cout<<val;\n",
    "        val++;\n",
    "        col++;\n",
    "    }\n",
    "    cout<<endl;\n",
    "    row++;\n",
    "}"
   ]
  },
  {
   "cell_type": "markdown",
   "id": "868db46f",
   "metadata": {},
   "source": [
    "#### Pattern 22\n",
    "<pre>\n",
    "A\n",
    "BC\n",
    "DEF\n",
    "</pre>"
   ]
  },
  {
   "cell_type": "code",
   "execution_count": 29,
   "id": "ebad3f82",
   "metadata": {
    "scrolled": false
   },
   "outputs": [
    {
     "name": "stdout",
     "output_type": "stream",
     "text": [
      "A\n",
      "BC\n",
      "DEF\n"
     ]
    }
   ],
   "source": [
    "int row=1, n=3;;\n",
    "char val='A';\n",
    "while(row<=n){\n",
    "    int col=1;\n",
    "    while(col<=row){\n",
    "        cout<<val;\n",
    "        val++;\n",
    "        col++;\n",
    "    }\n",
    "    cout<<endl;\n",
    "    row++;\n",
    "}"
   ]
  },
  {
   "cell_type": "markdown",
   "id": "48b0bff7",
   "metadata": {},
   "source": [
    "#### Pattern 23\n",
    "<pre>\n",
    "A\n",
    "AB\n",
    "ABC\n",
    "</pre>"
   ]
  },
  {
   "cell_type": "code",
   "execution_count": 30,
   "id": "4efcb982",
   "metadata": {},
   "outputs": [
    {
     "name": "stdout",
     "output_type": "stream",
     "text": [
      "A\n",
      "AB\n",
      "ABC\n"
     ]
    }
   ],
   "source": [
    "int row=1, n=3;\n",
    "while(row<=n){\n",
    "    int col=1;\n",
    "    while(col<=row){\n",
    "        char val='A'+col-1;\n",
    "        cout<<val;\n",
    "        val++;\n",
    "        col++;\n",
    "    }\n",
    "    cout<<endl;\n",
    "    row++;\n",
    "}"
   ]
  },
  {
   "cell_type": "markdown",
   "id": "bdd2f0b5",
   "metadata": {},
   "source": [
    "#### Pattern 24\n",
    "<pre>\n",
    "D\n",
    "CD\n",
    "BCD\n",
    "ABCD\n",
    "</pre>"
   ]
  },
  {
   "cell_type": "code",
   "execution_count": 31,
   "id": "76e9be3f",
   "metadata": {},
   "outputs": [
    {
     "name": "stdout",
     "output_type": "stream",
     "text": [
      "D\n",
      "CD\n",
      "BCD\n",
      "ABCD\n"
     ]
    }
   ],
   "source": [
    "int row=1, n=4;\n",
    "while(row<=n){\n",
    "    int col=1;\n",
    "    while(col<=row){\n",
    "        char val='A'+n-(row-col)-1;\n",
    "        cout<<val;\n",
    "        col++;\n",
    "    }\n",
    "    cout<<endl;\n",
    "    row++;\n",
    "}"
   ]
  },
  {
   "cell_type": "markdown",
   "id": "e8653977",
   "metadata": {},
   "source": [
    "#### Pattern 25\n",
    "<pre>\n",
    "4\n",
    "34\n",
    "234\n",
    "1234\n",
    "</pre>"
   ]
  },
  {
   "cell_type": "code",
   "execution_count": 32,
   "id": "0beb02d5",
   "metadata": {},
   "outputs": [
    {
     "name": "stdout",
     "output_type": "stream",
     "text": [
      "4\n",
      "34\n",
      "234\n",
      "1234\n"
     ]
    }
   ],
   "source": [
    "int row=1, n=4;\n",
    "while(row<=n){\n",
    "    int col=1;\n",
    "    while(col<=row){\n",
    "        cout<<n-(row-col);\n",
    "        col++;\n",
    "    }\n",
    "    cout<<endl;\n",
    "    row++;\n",
    "}"
   ]
  },
  {
   "cell_type": "markdown",
   "id": "cfdec993",
   "metadata": {},
   "source": [
    "#### Pattern 26\n",
    "<pre>\n",
    "   *\n",
    "  **\n",
    " ***\n",
    "****\n",
    "</pre>"
   ]
  },
  {
   "cell_type": "code",
   "execution_count": 33,
   "id": "1c106a32",
   "metadata": {
    "scrolled": true
   },
   "outputs": [
    {
     "name": "stdout",
     "output_type": "stream",
     "text": [
      "   *\n",
      "  **\n",
      " ***\n",
      "****\n"
     ]
    }
   ],
   "source": [
    "int row=1, n=4;\n",
    "while(row<=n){\n",
    "    int gap=n-row;\n",
    "    while(gap){\n",
    "        cout<<\" \";\n",
    "        gap--;\n",
    "    }\n",
    "    int col=1;\n",
    "    while(col<=row){\n",
    "        cout<<'*';\n",
    "        col++;\n",
    "    }\n",
    "    cout<<endl;\n",
    "    row++;\n",
    "}"
   ]
  },
  {
   "cell_type": "markdown",
   "id": "7992e951",
   "metadata": {},
   "source": [
    "#### Pattern 27\n",
    "<pre>\n",
    "   1\n",
    "  22\n",
    " 333\n",
    "4444\n",
    "</pre>"
   ]
  },
  {
   "cell_type": "code",
   "execution_count": 34,
   "id": "f0291618",
   "metadata": {},
   "outputs": [
    {
     "name": "stdout",
     "output_type": "stream",
     "text": [
      "   1\n",
      "  22\n",
      " 333\n",
      "4444\n"
     ]
    }
   ],
   "source": [
    "int row=1, n=4;\n",
    "while(row<=n){\n",
    "    int gap=n-row;\n",
    "    while(gap){\n",
    "        cout<<\" \";\n",
    "        gap--;\n",
    "    }\n",
    "    int col=1;\n",
    "    while(col<=row){\n",
    "        cout<<row;\n",
    "        col++;\n",
    "    }\n",
    "    cout<<endl;\n",
    "    row++;\n",
    "}"
   ]
  },
  {
   "cell_type": "markdown",
   "id": "fa180693",
   "metadata": {},
   "source": [
    "#### Pattern 28\n",
    "<pre>\n",
    "   1\n",
    "  12\n",
    " 123\n",
    "1234\n",
    "</pre>"
   ]
  },
  {
   "cell_type": "code",
   "execution_count": 35,
   "id": "a5485d0f",
   "metadata": {
    "scrolled": true
   },
   "outputs": [
    {
     "name": "stdout",
     "output_type": "stream",
     "text": [
      "   1\n",
      "  12\n",
      " 123\n",
      "1234\n"
     ]
    }
   ],
   "source": [
    "int row=1, n=4;\n",
    "while(row<=n){\n",
    "    int gap=n-row;\n",
    "    while(gap){\n",
    "        cout<<\" \";\n",
    "        gap--;\n",
    "    }\n",
    "    int col=1;\n",
    "    while(col<=row){\n",
    "        cout<<col;\n",
    "        col++;\n",
    "    }\n",
    "    cout<<endl;\n",
    "    row++;\n",
    "}"
   ]
  },
  {
   "cell_type": "markdown",
   "id": "9be9cb1d",
   "metadata": {},
   "source": [
    "#### Pattern 29\n",
    "<pre>\n",
    "****\n",
    " ***\n",
    "  **\n",
    "   *\n",
    "</pre>"
   ]
  },
  {
   "cell_type": "code",
   "execution_count": 36,
   "id": "b3f4d317",
   "metadata": {
    "scrolled": true
   },
   "outputs": [
    {
     "name": "stdout",
     "output_type": "stream",
     "text": [
      "****\n",
      " ***\n",
      "  **\n",
      "   *\n"
     ]
    }
   ],
   "source": [
    "int row=1,n=4;\n",
    "while(row<=n){\n",
    "    int col=1;\n",
    "    while(col<=n){\n",
    "        if(col<row){\n",
    "            cout<<\" \";\n",
    "        }\n",
    "        else{\n",
    "            cout<<\"*\";\n",
    "        }\n",
    "        col++;\n",
    "    }\n",
    "    cout<<endl;\n",
    "    row++;\n",
    "}"
   ]
  },
  {
   "cell_type": "markdown",
   "id": "d3e0071f",
   "metadata": {},
   "source": [
    "#### Pattern 30\n",
    "<pre>\n",
    "1234\n",
    " 234\n",
    "  34\n",
    "   4\n",
    "</pre>"
   ]
  },
  {
   "cell_type": "code",
   "execution_count": 37,
   "id": "b3396497",
   "metadata": {
    "scrolled": true
   },
   "outputs": [
    {
     "name": "stdout",
     "output_type": "stream",
     "text": [
      "1234\n",
      " 234\n",
      "  34\n",
      "   4\n"
     ]
    }
   ],
   "source": [
    "int row=1,n=4;\n",
    "while(row<=n){\n",
    "    int col=1;\n",
    "    while(col<=n){\n",
    "        if(col<row){\n",
    "            cout<<\" \";\n",
    "        }\n",
    "        else{\n",
    "            cout<<col;\n",
    "        }\n",
    "        col++;\n",
    "    }\n",
    "    cout<<endl;\n",
    "    row++;\n",
    "}"
   ]
  },
  {
   "cell_type": "markdown",
   "id": "fdd6ee22",
   "metadata": {},
   "source": [
    "#### Pattern 31\n",
    "<pre>\n",
    "1111\n",
    " 222\n",
    "  33\n",
    "   4\n",
    "</pre>"
   ]
  },
  {
   "cell_type": "code",
   "execution_count": 38,
   "id": "6f57c6f4",
   "metadata": {},
   "outputs": [
    {
     "name": "stdout",
     "output_type": "stream",
     "text": [
      "1111\n",
      " 222\n",
      "  33\n",
      "   4\n"
     ]
    }
   ],
   "source": [
    "int row=1,n=4;\n",
    "while(row<=n){\n",
    "    int col=1;\n",
    "    while(col<=n){\n",
    "        if(col<row){\n",
    "            cout<<\" \";\n",
    "        }\n",
    "        else{\n",
    "            cout<<row;\n",
    "        }\n",
    "        col++;\n",
    "    }\n",
    "    cout<<endl;\n",
    "    row++;\n",
    "}"
   ]
  },
  {
   "cell_type": "markdown",
   "id": "8a7440c2",
   "metadata": {},
   "source": [
    "#### Pattern 32\n",
    "<pre>\n",
    "   1\n",
    "  23\n",
    " 456\n",
    "</pre>"
   ]
  },
  {
   "cell_type": "code",
   "execution_count": 39,
   "id": "3ca7acea",
   "metadata": {},
   "outputs": [
    {
     "name": "stdout",
     "output_type": "stream",
     "text": [
      "  1\n",
      " 23\n",
      "456\n"
     ]
    }
   ],
   "source": [
    "int row=1,n=3,count=1;\n",
    "while(row<=n){\n",
    "    int gap=n-row;\n",
    "    while(gap){\n",
    "        cout<<\" \";\n",
    "        gap--;\n",
    "    }\n",
    "    int col=1;\n",
    "    while(col<=row){\n",
    "        cout<<count;\n",
    "        count++;\n",
    "        col++;\n",
    "    }\n",
    "    cout<<endl;\n",
    "    row++;\n",
    "}"
   ]
  },
  {
   "cell_type": "markdown",
   "id": "2fa21797",
   "metadata": {},
   "source": [
    "#### Pattern 33\n",
    "<pre>\n",
    "   1\n",
    "  121\n",
    " 12321\n",
    "1234321\n",
    "</pre>"
   ]
  },
  {
   "cell_type": "code",
   "execution_count": 40,
   "id": "3acd805c",
   "metadata": {},
   "outputs": [
    {
     "name": "stdout",
     "output_type": "stream",
     "text": [
      "   1\n",
      "  121\n",
      " 12321\n",
      "1234321\n"
     ]
    }
   ],
   "source": [
    "int row=1, n=4;\n",
    "while(row<=n){\n",
    "    int gap=n-row;\n",
    "    while(gap){\n",
    "        cout<<\" \";\n",
    "        gap--;\n",
    "    }\n",
    "    int col=1;\n",
    "    while(col<=row){\n",
    "        cout<<col;\n",
    "        col++;\n",
    "    }\n",
    "    int k=row-1;\n",
    "    while(k){\n",
    "        cout<<k;\n",
    "        k--;\n",
    "    }\n",
    "    cout<<endl;\n",
    "    row++;\n",
    "}"
   ]
  },
  {
   "cell_type": "markdown",
   "id": "adddd373",
   "metadata": {},
   "source": [
    "#### Pattern 34\n",
    "<pre>\n",
    "   *\n",
    "  ***\n",
    " *****\n",
    "*******\n",
    "</pre>"
   ]
  },
  {
   "cell_type": "code",
   "execution_count": 41,
   "id": "640b5010",
   "metadata": {},
   "outputs": [
    {
     "name": "stdout",
     "output_type": "stream",
     "text": [
      "   *\n",
      "  ***\n",
      " *****\n",
      "*******\n"
     ]
    }
   ],
   "source": [
    "int row=1, n=4;\n",
    "while(row<=n){\n",
    "    int gap=n-row;\n",
    "    while(gap){\n",
    "        cout<<\" \";\n",
    "        gap--;\n",
    "    }\n",
    "    int col=1;\n",
    "    while(col<=row){\n",
    "        cout<<\"*\";\n",
    "        col++;\n",
    "    }\n",
    "    int k=row-1;\n",
    "    while(k){\n",
    "        cout<<\"*\";\n",
    "        k--;\n",
    "    }\n",
    "    cout<<endl;\n",
    "    row++;\n",
    "}"
   ]
  },
  {
   "cell_type": "markdown",
   "id": "78463e4d",
   "metadata": {},
   "source": [
    "#### Pattern 34\n",
    "<pre>\n",
    "*******\n",
    " *****\n",
    "  ***\n",
    "   *\n",
    "</pre>"
   ]
  },
  {
   "cell_type": "code",
   "execution_count": 45,
   "id": "cf98bec9",
   "metadata": {},
   "outputs": [
    {
     "name": "stdout",
     "output_type": "stream",
     "text": [
      "*******\n",
      " *****\n",
      "  ***\n",
      "   *\n"
     ]
    }
   ],
   "source": [
    "int n=4, row=1;\n",
    "while(row<=4){\n",
    "    int col=1;\n",
    "    while(col<=n){\n",
    "        if(col<row){\n",
    "            cout<<\" \";\n",
    "        }\n",
    "        else{\n",
    "            cout<<\"*\";\n",
    "        }\n",
    "        col++;\n",
    "    }\n",
    "    int k=n-row;\n",
    "    while(k){\n",
    "        cout<<\"*\";\n",
    "        k--;\n",
    "    }\n",
    "    cout<<endl;\n",
    "    row++;\n",
    "}"
   ]
  },
  {
   "cell_type": "markdown",
   "id": "cb4f8cff",
   "metadata": {},
   "source": [
    "#### Pattern 35\n",
    "<pre>\n",
    "1234321\n",
    " 12321\n",
    "  121\n",
    "   1\n",
    "</pre>"
   ]
  },
  {
   "cell_type": "code",
   "execution_count": null,
   "id": "a73feb4a",
   "metadata": {},
   "outputs": [],
   "source": [
    "int n=4, row=1;\n",
    "while(row<=4){\n",
    "    int col=1;\n",
    "    while(col<=n){\n",
    "        if(col<row){\n",
    "            cout<<\" \";\n",
    "        }\n",
    "        else{\n",
    "            cout<<\"*\";\n",
    "        }\n",
    "        col++;\n",
    "    }\n",
    "    int k=n-row;\n",
    "    while(k){\n",
    "        cout<<;\n",
    "        k--;\n",
    "    }\n",
    "    cout<<endl;\n",
    "    row++;\n",
    "}"
   ]
  },
  {
   "cell_type": "markdown",
   "id": "2de1b929",
   "metadata": {},
   "source": [
    "#### Pattern 36\n",
    "<pre>\n",
    "12345*54321\n",
    "1234***4321\n",
    "123*****321\n",
    "12*******21\n",
    "1*********1\n",
    "</pre>"
   ]
  },
  {
   "cell_type": "code",
   "execution_count": 43,
   "id": "8153789e",
   "metadata": {},
   "outputs": [
    {
     "name": "stdout",
     "output_type": "stream",
     "text": [
      "12345*54321\n",
      "1234***4321\n",
      "123*****321\n",
      "12*******21\n",
      "1*********1\n"
     ]
    }
   ],
   "source": [
    "int row=1, n=5;\n",
    "while(row<=n){\n",
    "    int gap=(n-row)+1,count=1;\n",
    "    while(gap){\n",
    "        cout<<count;\n",
    "        gap--;\n",
    "        count++;\n",
    "    }\n",
    "    int col=1;\n",
    "    while(col<=row){\n",
    "        cout<<\"*\";\n",
    "        col++;\n",
    "    }\n",
    "    int k=row-1;\n",
    "    while(k){\n",
    "        cout<<\"*\";\n",
    "        k--;\n",
    "    }\n",
    "    int end=(n-row)+1;\n",
    "    while(end){\n",
    "        cout<<end;\n",
    "        end--;\n",
    "    }\n",
    "    cout<<endl;\n",
    "    row++;\n",
    "}"
   ]
  },
  {
   "cell_type": "code",
   "execution_count": null,
   "id": "76fdff73",
   "metadata": {},
   "outputs": [],
   "source": []
  }
 ],
 "metadata": {
  "kernelspec": {
   "display_name": "C++17",
   "language": "C++17",
   "name": "xcpp17"
  },
  "language_info": {
   "codemirror_mode": "text/x-c++src",
   "file_extension": ".cpp",
   "mimetype": "text/x-c++src",
   "name": "c++",
   "version": "17"
  }
 },
 "nbformat": 4,
 "nbformat_minor": 5
}
