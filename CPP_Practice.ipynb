{
 "cells": [
  {
   "cell_type": "markdown",
   "id": "2f43a8a1",
   "metadata": {},
   "source": [
    "#### Header"
   ]
  },
  {
   "cell_type": "code",
   "execution_count": 1,
   "id": "2f13385d",
   "metadata": {},
   "outputs": [],
   "source": [
    "#include <iostream>\n",
    "using namespace std;"
   ]
  },
  {
   "cell_type": "markdown",
   "id": "6271617c",
   "metadata": {},
   "source": [
    "#### Hello World"
   ]
  },
  {
   "cell_type": "code",
   "execution_count": 2,
   "id": "98417921",
   "metadata": {},
   "outputs": [
    {
     "name": "stdout",
     "output_type": "stream",
     "text": [
      "Namaskar Vishwa"
     ]
    }
   ],
   "source": [
    "cout << \"Namaskar Vishwa\";"
   ]
  },
  {
   "cell_type": "markdown",
   "id": "e65c8ab4",
   "metadata": {},
   "source": [
    "#### Memory size of datatypes"
   ]
  },
  {
   "cell_type": "code",
   "execution_count": 3,
   "id": "fd119a9f",
   "metadata": {},
   "outputs": [
    {
     "name": "stdout",
     "output_type": "stream",
     "text": [
      "int\tchar\tfloat\tdouble\tlong\tunsigned int\tstring\n",
      "4\t1\t4\t8\t8\t4\t\t32"
     ]
    }
   ],
   "source": [
    "int sizeof_int=sizeof(int);\n",
    "int sizeof_char=sizeof(char);\n",
    "int sizeof_float=sizeof(float);\n",
    "int sizeof_double=sizeof(double);\n",
    "int sizeof_long=sizeof(long);\n",
    "int sizeof_unsigned_int=sizeof(unsigned int);\n",
    "int sizeof_string=sizeof(string);\n",
    "cout<<\"int\\tchar\\tfloat\\tdouble\\tlong\\tunsigned int\\tstring\\n\";\n",
    "cout<<sizeof_int<<\"\\t\"<<sizeof_char<<\"\\t\"<<sizeof_float<<\"\\t\"<<sizeof_double<<\"\\t\"<<sizeof_long<<\"\\t\"<<sizeof_unsigned_int<<\"\\t\\t\"<<sizeof_string;"
   ]
  },
  {
   "cell_type": "code",
   "execution_count": null,
   "id": "2eda55e6",
   "metadata": {},
   "outputs": [],
   "source": []
  },
  {
   "cell_type": "code",
   "execution_count": null,
   "id": "a1a39906",
   "metadata": {},
   "outputs": [],
   "source": []
  }
 ],
 "metadata": {
  "kernelspec": {
   "display_name": "C++17",
   "language": "C++17",
   "name": "xcpp17"
  },
  "language_info": {
   "codemirror_mode": "text/x-c++src",
   "file_extension": ".cpp",
   "mimetype": "text/x-c++src",
   "name": "c++",
   "version": "17"
  }
 },
 "nbformat": 4,
 "nbformat_minor": 5
}
